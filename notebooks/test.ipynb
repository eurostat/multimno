{
 "cells": [
  {
   "cell_type": "markdown",
   "id": "ea9c421a",
   "metadata": {},
   "source": [
    "# Imports"
   ]
  },
  {
   "cell_type": "code",
   "execution_count": 1,
   "id": "0407a433-91be-47b2-a5bb-90bfbb16b511",
   "metadata": {
    "tags": []
   },
   "outputs": [],
   "source": [
    "import pyspark.sql.functions as psf\n",
    "from pyspark.sql import SparkSession\n",
    "from pyspark.context import SparkContext\n",
    "from pyspark.sql.types import StringType, StructType"
   ]
  },
  {
   "cell_type": "markdown",
   "id": "1496b7df",
   "metadata": {},
   "source": [
    "# Session"
   ]
  },
  {
   "cell_type": "code",
   "execution_count": 2,
   "id": "786ef7b4",
   "metadata": {
    "tags": []
   },
   "outputs": [],
   "source": [
    "\n",
    "class SESSION_TYPES:\n",
    "    LOCAL_SESSION = \"local\"\n",
    "\n",
    "def build_local_session():\n",
    "    return SparkSession.builder.\\\n",
    "            config(\"spark.driver.host\", \"localhost\")\\\n",
    "            .config(\"spark.eventLog.enabled\", \"true\")\\\n",
    "            .config(\"spark.eventLog.dir\", \"/tmp\")\\\n",
    "            .config(\"spark.history.fs.logDirectory\", \"/tmp\")\\\n",
    "            .appName(\"Test-multimno-JL\").getOrCreate()\n",
    "\n",
    "build_session = {SESSION_TYPES.LOCAL_SESSION: build_local_session}"
   ]
  },
  {
   "cell_type": "code",
   "execution_count": 3,
   "metadata": {},
   "outputs": [
    {
     "name": "stderr",
     "output_type": "stream",
     "text": [
      "Setting default log level to \"WARN\".\n",
      "To adjust logging level use sc.setLogLevel(newLevel). For SparkR, use setLogLevel(newLevel).\n",
      "23/11/08 13:39:49 WARN NativeCodeLoader: Unable to load native-hadoop library for your platform... using builtin-java classes where applicable\n",
      "/usr/local/lib/python3.7/site-packages/pyspark/context.py:317: FutureWarning: Python 3.7 support is deprecated in Spark 3.4.\n",
      "  warnings.warn(\"Python 3.7 support is deprecated in Spark 3.4.\", FutureWarning)\n"
     ]
    },
    {
     "data": {
      "text/html": [
       "\n",
       "        <div>\n",
       "            <p><b>SparkContext</b></p>\n",
       "\n",
       "            <p><a href=\"http://localhost:4040\">Spark UI</a></p>\n",
       "\n",
       "            <dl>\n",
       "              <dt>Version</dt>\n",
       "                <dd><code>v3.4.1</code></dd>\n",
       "              <dt>Master</dt>\n",
       "                <dd><code>local[*]</code></dd>\n",
       "              <dt>AppName</dt>\n",
       "                <dd><code>Test-multimno-JL</code></dd>\n",
       "            </dl>\n",
       "        </div>\n",
       "        "
      ],
      "text/plain": [
       "<SparkContext master=local[*] appName=Test-multimno-JL>"
      ]
     },
     "execution_count": 3,
     "metadata": {},
     "output_type": "execute_result"
    }
   ],
   "source": [
    "SESSION = SESSION_TYPES.LOCAL_SESSION\n",
    "\n",
    "spark = build_session[SESSION]()\n",
    "\n",
    "sc = spark.sparkContext.getOrCreate()\n",
    "sc"
   ]
  },
  {
   "cell_type": "markdown",
   "id": "9f395523",
   "metadata": {},
   "source": [
    "# Variables"
   ]
  },
  {
   "cell_type": "code",
   "execution_count": 4,
   "id": "3178c33b",
   "metadata": {
    "tags": []
   },
   "outputs": [],
   "source": [
    "input_path = \"/opt/data/input/od_pairs.txt\"\n",
    "output_path = \"/opt/data/output/od_pairs.parquet\""
   ]
  },
  {
   "cell_type": "markdown",
   "id": "7cf42aed-03e8-4c4d-a9db-4bfa8d7761ce",
   "metadata": {},
   "source": [
    "# Extract"
   ]
  },
  {
   "cell_type": "code",
   "execution_count": 5,
   "id": "1e8e6b28-171a-4bcf-9018-0cd4f417931a",
   "metadata": {
    "tags": []
   },
   "outputs": [
    {
     "name": "stdout",
     "output_type": "stream",
     "text": [
      "+---------+-----------+\n",
      "|   origin|destination|\n",
      "+---------+-----------+\n",
      "|1:10.2:21|  1:10.2:23|\n",
      "|1:10.2:21|  1:10.2:24|\n",
      "|1:10.2:21|  1:10.2:25|\n",
      "|1:10.2:21|  1:10.2:26|\n",
      "+---------+-----------+\n",
      "\n"
     ]
    },
    {
     "name": "stderr",
     "output_type": "stream",
     "text": [
      "                                                                                \r"
     ]
    }
   ],
   "source": [
    "schema = StructType() \\\n",
    "      .add(\"origin\",StringType(),True) \\\n",
    "      .add(\"destination\",StringType(),True)\n",
    "    \n",
    "df = spark.read.options(delimiter='|', header=True).schema(schema).csv(input_path)\n",
    "\n",
    "df.show()"
   ]
  },
  {
   "cell_type": "markdown",
   "id": "b3a3d8fa",
   "metadata": {},
   "source": [
    "# Transform"
   ]
  },
  {
   "cell_type": "code",
   "execution_count": 6,
   "id": "fd7e22c5-4538-465e-962d-64e154696a83",
   "metadata": {
    "tags": []
   },
   "outputs": [
    {
     "name": "stdout",
     "output_type": "stream",
     "text": [
      "+---------+-----------+------+\n",
      "|   origin|destination|  test|\n",
      "+---------+-----------+------+\n",
      "|1:10.2:21|  1:10.2:23|patata|\n",
      "|1:10.2:21|  1:10.2:24|patata|\n",
      "|1:10.2:21|  1:10.2:25|patata|\n",
      "|1:10.2:21|  1:10.2:26|patata|\n",
      "+---------+-----------+------+\n",
      "\n"
     ]
    }
   ],
   "source": [
    "df = df.withColumn('test', psf.lit('patata'))\n",
    "df.show()"
   ]
  },
  {
   "cell_type": "markdown",
   "id": "657a5a9a",
   "metadata": {},
   "source": [
    "# Load"
   ]
  },
  {
   "cell_type": "code",
   "execution_count": 7,
   "id": "bc85b43e-7218-4f8b-bcd0-ed19699af29c",
   "metadata": {
    "tags": []
   },
   "outputs": [],
   "source": [
    "df.write.mode('overwrite').parquet(output_path)"
   ]
  },
  {
   "cell_type": "code",
   "execution_count": 8,
   "id": "e0ad370a",
   "metadata": {},
   "outputs": [
    {
     "name": "stdout",
     "output_type": "stream",
     "text": [
      "+---------+-----------+------+\n",
      "|   origin|destination|  test|\n",
      "+---------+-----------+------+\n",
      "|1:10.2:21|  1:10.2:23|patata|\n",
      "|1:10.2:21|  1:10.2:24|patata|\n",
      "|1:10.2:21|  1:10.2:25|patata|\n",
      "|1:10.2:21|  1:10.2:26|patata|\n",
      "+---------+-----------+------+\n",
      "\n"
     ]
    }
   ],
   "source": [
    "df = spark.read.parquet(output_path)\n",
    "df.show()"
   ]
  },
  {
   "cell_type": "code",
   "execution_count": null,
   "id": "94ddca34",
   "metadata": {},
   "outputs": [],
   "source": []
  }
 ],
 "metadata": {
  "kernelspec": {
   "display_name": "Python 3 (ipykernel)",
   "language": "python",
   "name": "python3"
  },
  "language_info": {
   "codemirror_mode": {
    "name": "ipython",
    "version": 3
   },
   "file_extension": ".py",
   "mimetype": "text/x-python",
   "name": "python",
   "nbconvert_exporter": "python",
   "pygments_lexer": "ipython3",
   "version": "3.7.17"
  }
 },
 "nbformat": 4,
 "nbformat_minor": 5
}
