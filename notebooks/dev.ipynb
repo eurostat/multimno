{
 "cells": [
  {
   "cell_type": "markdown",
   "id": "ea9c421a",
   "metadata": {},
   "source": [
    "# Imports"
   ]
  },
  {
   "cell_type": "code",
   "execution_count": 1,
   "id": "0407a433-91be-47b2-a5bb-90bfbb16b511",
   "metadata": {
    "tags": []
   },
   "outputs": [],
   "source": [
    "from components.ingestion.synthetic.event_synthetic import EventSynthetic"
   ]
  },
  {
   "cell_type": "markdown",
   "metadata": {},
   "source": [
    "# Init Component"
   ]
  },
  {
   "cell_type": "code",
   "execution_count": 2,
   "metadata": {},
   "outputs": [],
   "source": [
    "root_path = \"/opt/dev\"\n",
    "\n",
    "general_config = f\"{root_path}/pipe_configs/configurations/general_config.ini\"\n",
    "component_config = f\"{root_path}/pipe_configs/configurations/event/event_synthetic.ini\""
   ]
  },
  {
   "cell_type": "code",
   "execution_count": 3,
   "metadata": {},
   "outputs": [
    {
     "name": "stderr",
     "output_type": "stream",
     "text": [
      "Setting default log level to \"WARN\".\n",
      "To adjust logging level use sc.setLogLevel(newLevel). For SparkR, use setLogLevel(newLevel).\n",
      "23/11/28 14:24:18 WARN NativeCodeLoader: Unable to load native-hadoop library for your platform... using builtin-java classes where applicable\n"
     ]
    },
    {
     "data": {
      "text/html": [
       "\n",
       "            <div>\n",
       "                <p><b>SparkSession - in-memory</b></p>\n",
       "                \n",
       "        <div>\n",
       "            <p><b>SparkContext</b></p>\n",
       "\n",
       "            <p><a href=\"http://localhost:4040\">Spark UI</a></p>\n",
       "\n",
       "            <dl>\n",
       "              <dt>Version</dt>\n",
       "                <dd><code>v3.4.1</code></dd>\n",
       "              <dt>Master</dt>\n",
       "                <dd><code>local[*]</code></dd>\n",
       "              <dt>AppName</dt>\n",
       "                <dd><code>EventSynthetic</code></dd>\n",
       "            </dl>\n",
       "        </div>\n",
       "        \n",
       "            </div>\n",
       "        "
      ],
      "text/plain": [
       "<pyspark.sql.session.SparkSession at 0x7f14c9677210>"
      ]
     },
     "execution_count": 3,
     "metadata": {},
     "output_type": "execute_result"
    }
   ],
   "source": [
    "# Start Component\n",
    "event_synthetic = EventSynthetic(general_config, component_config)\n",
    "event_synthetic.spark"
   ]
  },
  {
   "cell_type": "markdown",
   "id": "7cf42aed-03e8-4c4d-a9db-4bfa8d7761ce",
   "metadata": {},
   "source": [
    "# Extract"
   ]
  },
  {
   "cell_type": "code",
   "execution_count": null,
   "id": "1e8e6b28-171a-4bcf-9018-0cd4f417931a",
   "metadata": {
    "tags": []
   },
   "outputs": [],
   "source": []
  },
  {
   "cell_type": "markdown",
   "id": "b3a3d8fa",
   "metadata": {},
   "source": [
    "# Transform"
   ]
  },
  {
   "cell_type": "code",
   "execution_count": 5,
   "id": "fd7e22c5-4538-465e-962d-64e154696a83",
   "metadata": {
    "tags": []
   },
   "outputs": [
    {
     "name": "stderr",
     "output_type": "stream",
     "text": [
      "                                                                                \r"
     ]
    },
    {
     "name": "stdout",
     "output_type": "stream",
     "text": [
      "+--------------------+-----------------+---+---------------+--------+---------+---------+\n",
      "|             user_id|        timestamp|mcc|        cell_id|latitude|longitude|loc_error|\n",
      "+--------------------+-----------------+---+---------------+--------+---------+---------+\n",
      "|[51 29 ED F0 73 E...|20230101T21:10:55|701|701980550707634|    null|     null|     null|\n",
      "|[51 29 ED F0 73 E...|20230101T12:42:22|108|108519696110357|    null|     null|     null|\n",
      "|[51 29 ED F0 73 E...|20230101T01:52:21|423|423644015408110|    null|     null|     null|\n",
      "|[A5 EA 32 F0 06 E...|20230101T14:16:59|300|300525335702358|    null|     null|     null|\n",
      "|[A5 EA 32 F0 06 E...|20230101T17:56:19|702|702534189650107|    null|     null|     null|\n",
      "|[A5 EA 32 F0 06 E...|20230101T12:00:38|968|968553688052984|    null|     null|     null|\n",
      "+--------------------+-----------------+---+---------------+--------+---------+---------+\n",
      "\n"
     ]
    }
   ],
   "source": [
    "from core.data_objects.bronze.bronze_event_data_object import BronzeEventDataObject\n",
    "import random\n",
    "\n",
    "# MVP - Synthetic\n",
    "spark = event_synthetic.spark\n",
    "schema = event_synthetic.output_data_objects[BronzeEventDataObject.ID].SCHEMA\n",
    "\n",
    "n_agents = event_synthetic.config.getint('Component.EventSynthetic', 'n_agents')\n",
    "n_events = event_synthetic.config.getint('Component.EventSynthetic', 'n_events')\n",
    "seed = event_synthetic.config.getint('Component.EventSynthetic', 'seed')\n",
    "\n",
    "sdate = event_synthetic.config.getint('Component.EventSynthetic', 'dates_string')\n",
    "\n",
    "nrows = n_agents * n_events\n",
    "\n",
    "\n",
    "data = []\n",
    "for _ in range(n_agents):\n",
    "    \n",
    "    # Empty dataframe\n",
    "    # df = spark.sparkContext.emptyRDD().toDF(schema)\n",
    "\n",
    "    # Random user_id\n",
    "    # random.seed(seed)\n",
    "    user_id = random.randbytes(32)\n",
    "\n",
    "    for _ in range(n_events):\n",
    "        # Random timestamp in path\n",
    "        random_date = f\"{sdate}T{random.randint(0, 23):02}:{random.randint(0, 59):02}:{random.randint(0, 59):02}\"\n",
    "        # random mcc\n",
    "        random_mcc = random.randint(0, 999)\n",
    "        # random cell_id\n",
    "        cell_id = f\"{random_mcc:03}\" + \"\".join([str(random.randint(0, 9)) for _ in range(12)])\n",
    "\n",
    "        # latitude\n",
    "        latitude = None\n",
    "        # longitude\n",
    "        longitude = None\n",
    "        # loc_error\n",
    "        loc_error = None\n",
    "        # Create row\n",
    "        row = [user_id, random_date, random_mcc, cell_id, latitude, longitude, loc_error]\n",
    "        # Append row to data\n",
    "        data.append(row)\n",
    "\n",
    "\n",
    "df = spark.createDataFrame(data, schema)\n",
    "df.show()"
   ]
  },
  {
   "cell_type": "code",
   "execution_count": 6,
   "metadata": {},
   "outputs": [
    {
     "name": "stdout",
     "output_type": "stream",
     "text": [
      "/opt/data/lakehouse/bronze/mno_events/20230101\n"
     ]
    }
   ],
   "source": [
    "event_do = event_synthetic.output_data_objects[BronzeEventDataObject.ID]\n",
    "sdate = event_synthetic.config.get('Component.EventSynthetic', 'dates_string')\n",
    "path = f\"{event_do.interface.path}/{sdate}\"\n",
    "print(path)"
   ]
  },
  {
   "cell_type": "code",
   "execution_count": 9,
   "metadata": {},
   "outputs": [
    {
     "name": "stderr",
     "output_type": "stream",
     "text": [
      "                                                                                \r"
     ]
    }
   ],
   "source": [
    "event_do.df = df\n",
    "event_do.write(path)"
   ]
  },
  {
   "cell_type": "code",
   "execution_count": 16,
   "metadata": {},
   "outputs": [],
   "source": [
    "temp_output_path = \"/opt/data/lakehouse/test_partition\"\n",
    "df.write.format(\"parquet\").partitionBy([\"user_id\"]).mode(\"overwrite\").save(temp_output_path)"
   ]
  },
  {
   "cell_type": "markdown",
   "metadata": {},
   "source": []
  },
  {
   "cell_type": "markdown",
   "id": "657a5a9a",
   "metadata": {},
   "source": [
    "# Load"
   ]
  },
  {
   "cell_type": "code",
   "execution_count": 44,
   "metadata": {},
   "outputs": [
    {
     "data": {
      "text/plain": [
       "bytes"
      ]
     },
     "execution_count": 44,
     "metadata": {},
     "output_type": "execute_result"
    }
   ],
   "source": [
    "import os\n",
    "import random\n",
    "\n",
    "bits = random.randbytes(32)\n",
    "type(bits)"
   ]
  },
  {
   "cell_type": "code",
   "execution_count": 45,
   "metadata": {},
   "outputs": [
    {
     "data": {
      "text/plain": [
       "256"
      ]
     },
     "execution_count": 45,
     "metadata": {},
     "output_type": "execute_result"
    }
   ],
   "source": [
    "len(bin(int.from_bytes(bits))[2:])"
   ]
  },
  {
   "cell_type": "code",
   "execution_count": null,
   "metadata": {},
   "outputs": [],
   "source": []
  },
  {
   "cell_type": "code",
   "execution_count": null,
   "metadata": {},
   "outputs": [],
   "source": []
  },
  {
   "cell_type": "code",
   "execution_count": null,
   "metadata": {},
   "outputs": [],
   "source": []
  }
 ],
 "metadata": {
  "kernelspec": {
   "display_name": "Python 3 (ipykernel)",
   "language": "python",
   "name": "python3"
  },
  "language_info": {
   "codemirror_mode": {
    "name": "ipython",
    "version": 3
   },
   "file_extension": ".py",
   "mimetype": "text/x-python",
   "name": "python",
   "nbconvert_exporter": "python",
   "pygments_lexer": "ipython3",
   "version": "3.11.6"
  }
 },
 "nbformat": 4,
 "nbformat_minor": 5
}
