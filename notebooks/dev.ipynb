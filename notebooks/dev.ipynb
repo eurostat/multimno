{
 "cells": [
  {
   "cell_type": "markdown",
   "id": "ea9c421a",
   "metadata": {},
   "source": [
    "# Imports"
   ]
  },
  {
   "cell_type": "code",
   "execution_count": 1,
   "id": "0407a433-91be-47b2-a5bb-90bfbb16b511",
   "metadata": {
    "tags": []
   },
   "outputs": [],
   "source": [
    "from components.ingestion.synthetic.event_synthetic import EventSynthetic"
   ]
  },
  {
   "cell_type": "markdown",
   "metadata": {},
   "source": [
    "# Init Component"
   ]
  },
  {
   "cell_type": "code",
   "execution_count": 2,
   "metadata": {},
   "outputs": [],
   "source": [
    "root_path = \"/opt/dev\"\n",
    "\n",
    "general_config = f\"{root_path}/pipe_configs/configurations/general_config.ini\"\n",
    "component_config = f\"{root_path}/pipe_configs/configurations/event/event_synthetic.ini\""
   ]
  },
  {
   "cell_type": "code",
   "execution_count": 3,
   "metadata": {},
   "outputs": [
    {
     "name": "stderr",
     "output_type": "stream",
     "text": [
      "Setting default log level to \"WARN\".\n",
      "To adjust logging level use sc.setLogLevel(newLevel). For SparkR, use setLogLevel(newLevel).\n",
      "23/11/29 10:05:16 WARN NativeCodeLoader: Unable to load native-hadoop library for your platform... using builtin-java classes where applicable\n"
     ]
    },
    {
     "data": {
      "text/html": [
       "\n",
       "            <div>\n",
       "                <p><b>SparkSession - in-memory</b></p>\n",
       "                \n",
       "        <div>\n",
       "            <p><b>SparkContext</b></p>\n",
       "\n",
       "            <p><a href=\"http://localhost:4040\">Spark UI</a></p>\n",
       "\n",
       "            <dl>\n",
       "              <dt>Version</dt>\n",
       "                <dd><code>v3.4.1</code></dd>\n",
       "              <dt>Master</dt>\n",
       "                <dd><code>local[*]</code></dd>\n",
       "              <dt>AppName</dt>\n",
       "                <dd><code>EventSynthetic</code></dd>\n",
       "            </dl>\n",
       "        </div>\n",
       "        \n",
       "            </div>\n",
       "        "
      ],
      "text/plain": [
       "<pyspark.sql.session.SparkSession at 0x7f5141edb590>"
      ]
     },
     "execution_count": 3,
     "metadata": {},
     "output_type": "execute_result"
    }
   ],
   "source": [
    "# Start Component\n",
    "event_synthetic = EventSynthetic(general_config, component_config)\n",
    "event_synthetic.spark"
   ]
  },
  {
   "cell_type": "markdown",
   "id": "7cf42aed-03e8-4c4d-a9db-4bfa8d7761ce",
   "metadata": {},
   "source": [
    "# Extract"
   ]
  },
  {
   "cell_type": "code",
   "execution_count": null,
   "id": "1e8e6b28-171a-4bcf-9018-0cd4f417931a",
   "metadata": {
    "tags": []
   },
   "outputs": [],
   "source": []
  },
  {
   "cell_type": "markdown",
   "id": "b3a3d8fa",
   "metadata": {},
   "source": [
    "# Transform"
   ]
  },
  {
   "cell_type": "code",
   "execution_count": null,
   "id": "fd7e22c5-4538-465e-962d-64e154696a83",
   "metadata": {
    "tags": []
   },
   "outputs": [],
   "source": [
    "from core.data_objects.bronze.bronze_event_data_object import BronzeEventDataObject\n",
    "import random\n",
    "\n",
    "# MVP - Synthetic\n",
    "spark = event_synthetic.spark\n",
    "schema = event_synthetic.output_data_objects[BronzeEventDataObject.ID].SCHEMA\n",
    "\n",
    "n_agents = event_synthetic.config.getint('EventSynthetic', 'n_agents')\n",
    "n_events = event_synthetic.config.getint('EventSynthetic', 'n_events')\n",
    "seed = event_synthetic.config.getint('EventSynthetic', 'seed')\n",
    "\n",
    "sdate = event_synthetic.config.getint('EventSynthetic', 'dates_string')\n",
    "\n",
    "nrows = n_agents * n_events\n",
    "\n",
    "\n",
    "data = []\n",
    "for _ in range(n_agents):\n",
    "    \n",
    "    # Empty dataframe\n",
    "    # df = spark.sparkContext.emptyRDD().toDF(schema)\n",
    "\n",
    "    # Random user_id\n",
    "    # random.seed(seed)\n",
    "    user_id = random.randbytes(32)\n",
    "\n",
    "    for _ in range(n_events):\n",
    "        # Random timestamp in path\n",
    "        random_date = f\"{sdate}T{random.randint(0, 23):02}:{random.randint(0, 59):02}:{random.randint(0, 59):02}\"\n",
    "        # random mcc\n",
    "        random_mcc = random.randint(0, 999)\n",
    "        # random cell_id\n",
    "        cell_id = f\"{random_mcc:03}\" + \"\".join([str(random.randint(0, 9)) for _ in range(12)])\n",
    "\n",
    "        # latitude\n",
    "        latitude = None\n",
    "        # longitude\n",
    "        longitude = None\n",
    "        # loc_error\n",
    "        loc_error = None\n",
    "        # Create row\n",
    "        row = [user_id, random_date, random_mcc, cell_id, latitude, longitude, loc_error]\n",
    "        # Append row to data\n",
    "        data.append(row)\n",
    "\n",
    "\n",
    "df = spark.createDataFrame(data, schema)\n",
    "df.show()"
   ]
  },
  {
   "cell_type": "code",
   "execution_count": null,
   "metadata": {},
   "outputs": [],
   "source": [
    "event_do = event_synthetic.output_data_objects[BronzeEventDataObject.ID]\n",
    "sdate = event_synthetic.config.get('EventSynthetic', 'dates_string')\n",
    "path = f\"{event_synthetic.config.get('Paths.Bronze', 'event_data_bronze')}/{sdate}\"\n",
    "print(path)"
   ]
  },
  {
   "cell_type": "code",
   "execution_count": null,
   "metadata": {},
   "outputs": [],
   "source": [
    "event_do.df = df\n",
    "event_do.write(path)"
   ]
  },
  {
   "cell_type": "code",
   "execution_count": null,
   "metadata": {},
   "outputs": [],
   "source": [
    "temp_output_path = \"/opt/data/lakehouse/test_partition\"\n",
    "df.write.format(\"parquet\").partitionBy([\"user_id\"]).mode(\"overwrite\").save(temp_output_path)"
   ]
  },
  {
   "cell_type": "markdown",
   "metadata": {},
   "source": []
  },
  {
   "cell_type": "markdown",
   "id": "657a5a9a",
   "metadata": {},
   "source": [
    "# Load"
   ]
  },
  {
   "cell_type": "code",
   "execution_count": null,
   "metadata": {},
   "outputs": [],
   "source": [
    "import os\n",
    "import random\n",
    "\n",
    "bits = random.randbytes(32)\n",
    "type(bits)"
   ]
  },
  {
   "cell_type": "code",
   "execution_count": null,
   "metadata": {},
   "outputs": [],
   "source": [
    "len(bin(int.from_bytes(bits))[2:])"
   ]
  },
  {
   "cell_type": "code",
   "execution_count": null,
   "metadata": {},
   "outputs": [],
   "source": []
  },
  {
   "cell_type": "code",
   "execution_count": null,
   "metadata": {},
   "outputs": [],
   "source": []
  },
  {
   "cell_type": "code",
   "execution_count": 1,
   "metadata": {},
   "outputs": [
    {
     "ename": "AssertionError",
     "evalue": "",
     "output_type": "error",
     "traceback": [
      "\u001b[0;31m---------------------------------------------------------------------------\u001b[0m",
      "\u001b[0;31mAssertionError\u001b[0m                            Traceback (most recent call last)",
      "\u001b[1;32m/opt/dev/notebooks/dev.ipynb Cell 19\u001b[0m line \u001b[0;36m3\n\u001b[1;32m      <a href='vscode-notebook-cell://dev-container%2B7b22686f737450617468223a225c5c5c5c77736c2e6c6f63616c686f73745c5c5562756e74755c5c686f6d655c5c737465736f5c5c776f726b73706163655c5c4555524f535441545c5c6d756c74696d6e6f5f696e7465726e616c222c226c6f63616c446f636b6572223a66616c73652c22636f6e66696746696c65223a7b22246d6964223a312c2270617468223a222f686f6d652f737465736f2f776f726b73706163652f4555524f535441542f6d756c74696d6e6f5f696e7465726e616c2f2e646576636f6e7461696e65722f646576636f6e7461696e65722e6a736f6e222c22736368656d65223a227673636f64652d66696c65486f7374227d7d/opt/dev/notebooks/dev.ipynb#X24sdnNjb2RlLXJlbW90ZQ%3D%3D?line=0'>1</a>\u001b[0m \u001b[39mfrom\u001b[39;00m \u001b[39mpyspark\u001b[39;00m \u001b[39mimport\u001b[39;00m SparkFiles\n\u001b[1;32m      <a href='vscode-notebook-cell://dev-container%2B7b22686f737450617468223a225c5c5c5c77736c2e6c6f63616c686f73745c5c5562756e74755c5c686f6d655c5c737465736f5c5c776f726b73706163655c5c4555524f535441545c5c6d756c74696d6e6f5f696e7465726e616c222c226c6f63616c446f636b6572223a66616c73652c22636f6e66696746696c65223a7b22246d6964223a312c2270617468223a222f686f6d652f737465736f2f776f726b73706163652f4555524f535441542f6d756c74696d6e6f5f696e7465726e616c2f2e646576636f6e7461696e65722f646576636f6e7461696e65722e6a736f6e222c22736368656d65223a227673636f64652d66696c65486f7374227d7d/opt/dev/notebooks/dev.ipynb#X24sdnNjb2RlLXJlbW90ZQ%3D%3D?line=1'>2</a>\u001b[0m \u001b[39mimport\u001b[39;00m \u001b[39mos\u001b[39;00m\n\u001b[0;32m----> <a href='vscode-notebook-cell://dev-container%2B7b22686f737450617468223a225c5c5c5c77736c2e6c6f63616c686f73745c5c5562756e74755c5c686f6d655c5c737465736f5c5c776f726b73706163655c5c4555524f535441545c5c6d756c74696d6e6f5f696e7465726e616c222c226c6f63616c446f636b6572223a66616c73652c22636f6e66696746696c65223a7b22246d6964223a312c2270617468223a222f686f6d652f737465736f2f776f726b73706163652f4555524f535441542f6d756c74696d6e6f5f696e7465726e616c2f2e646576636f6e7461696e65722f646576636f6e7461696e65722e6a736f6e222c22736368656d65223a227673636f64652d66696c65486f7374227d7d/opt/dev/notebooks/dev.ipynb#X24sdnNjb2RlLXJlbW90ZQ%3D%3D?line=2'>3</a>\u001b[0m SparkFiles\u001b[39m.\u001b[39;49mgetRootDirectory()\n",
      "File \u001b[0;32m/opt/spark/python/pyspark/files.py:146\u001b[0m, in \u001b[0;36mSparkFiles.getRootDirectory\u001b[0;34m(cls)\u001b[0m\n\u001b[1;32m    143\u001b[0m     \u001b[39mreturn\u001b[39;00m cast(\u001b[39mstr\u001b[39m, \u001b[39mcls\u001b[39m\u001b[39m.\u001b[39m_root_directory)\n\u001b[1;32m    144\u001b[0m \u001b[39melse\u001b[39;00m:\n\u001b[1;32m    145\u001b[0m     \u001b[39m# This will have to change if we support multiple SparkContexts:\u001b[39;00m\n\u001b[0;32m--> 146\u001b[0m     \u001b[39massert\u001b[39;00m \u001b[39mcls\u001b[39m\u001b[39m.\u001b[39m_sc \u001b[39mis\u001b[39;00m \u001b[39mnot\u001b[39;00m \u001b[39mNone\u001b[39;00m\n\u001b[1;32m    147\u001b[0m     \u001b[39massert\u001b[39;00m \u001b[39mcls\u001b[39m\u001b[39m.\u001b[39m_sc\u001b[39m.\u001b[39m_jvm \u001b[39mis\u001b[39;00m \u001b[39mnot\u001b[39;00m \u001b[39mNone\u001b[39;00m\n\u001b[1;32m    148\u001b[0m     \u001b[39mreturn\u001b[39;00m \u001b[39mcls\u001b[39m\u001b[39m.\u001b[39m_sc\u001b[39m.\u001b[39m_jvm\u001b[39m.\u001b[39morg\u001b[39m.\u001b[39mapache\u001b[39m.\u001b[39mspark\u001b[39m.\u001b[39mSparkFiles\u001b[39m.\u001b[39mgetRootDirectory()\n",
      "\u001b[0;31mAssertionError\u001b[0m: "
     ]
    }
   ],
   "source": [
    "from pyspark import SparkFiles\n",
    "SparkFiles.getRootDirectory()"
   ]
  },
  {
   "cell_type": "code",
   "execution_count": 2,
   "metadata": {},
   "outputs": [
    {
     "ename": "AssertionError",
     "evalue": "",
     "output_type": "error",
     "traceback": [
      "\u001b[0;31m---------------------------------------------------------------------------\u001b[0m",
      "\u001b[0;31mAssertionError\u001b[0m                            Traceback (most recent call last)",
      "\u001b[1;32m/opt/dev/notebooks/dev.ipynb Cell 20\u001b[0m line \u001b[0;36m1\n\u001b[0;32m----> <a href='vscode-notebook-cell://dev-container%2B7b22686f737450617468223a225c5c5c5c77736c2e6c6f63616c686f73745c5c5562756e74755c5c686f6d655c5c737465736f5c5c776f726b73706163655c5c4555524f535441545c5c6d756c74696d6e6f5f696e7465726e616c222c226c6f63616c446f636b6572223a66616c73652c22636f6e66696746696c65223a7b22246d6964223a312c2270617468223a222f686f6d652f737465736f2f776f726b73706163652f4555524f535441542f6d756c74696d6e6f5f696e7465726e616c2f2e646576636f6e7461696e65722f646576636f6e7461696e65722e6a736f6e222c22736368656d65223a227673636f64652d66696c65486f7374227d7d/opt/dev/notebooks/dev.ipynb#X26sdnNjb2RlLXJlbW90ZQ%3D%3D?line=0'>1</a>\u001b[0m SparkFiles\u001b[39m.\u001b[39;49mgetRootDirectory()\n",
      "File \u001b[0;32m/opt/spark/python/pyspark/files.py:146\u001b[0m, in \u001b[0;36mSparkFiles.getRootDirectory\u001b[0;34m(cls)\u001b[0m\n\u001b[1;32m    143\u001b[0m     \u001b[39mreturn\u001b[39;00m cast(\u001b[39mstr\u001b[39m, \u001b[39mcls\u001b[39m\u001b[39m.\u001b[39m_root_directory)\n\u001b[1;32m    144\u001b[0m \u001b[39melse\u001b[39;00m:\n\u001b[1;32m    145\u001b[0m     \u001b[39m# This will have to change if we support multiple SparkContexts:\u001b[39;00m\n\u001b[0;32m--> 146\u001b[0m     \u001b[39massert\u001b[39;00m \u001b[39mcls\u001b[39m\u001b[39m.\u001b[39m_sc \u001b[39mis\u001b[39;00m \u001b[39mnot\u001b[39;00m \u001b[39mNone\u001b[39;00m\n\u001b[1;32m    147\u001b[0m     \u001b[39massert\u001b[39;00m \u001b[39mcls\u001b[39m\u001b[39m.\u001b[39m_sc\u001b[39m.\u001b[39m_jvm \u001b[39mis\u001b[39;00m \u001b[39mnot\u001b[39;00m \u001b[39mNone\u001b[39;00m\n\u001b[1;32m    148\u001b[0m     \u001b[39mreturn\u001b[39;00m \u001b[39mcls\u001b[39m\u001b[39m.\u001b[39m_sc\u001b[39m.\u001b[39m_jvm\u001b[39m.\u001b[39morg\u001b[39m.\u001b[39mapache\u001b[39m.\u001b[39mspark\u001b[39m.\u001b[39mSparkFiles\u001b[39m.\u001b[39mgetRootDirectory()\n",
      "\u001b[0;31mAssertionError\u001b[0m: "
     ]
    }
   ],
   "source": [
    "SparkFiles.getRootDirectory()"
   ]
  },
  {
   "cell_type": "code",
   "execution_count": 4,
   "metadata": {},
   "outputs": [
    {
     "data": {
      "text/plain": [
       "True"
      ]
     },
     "execution_count": 4,
     "metadata": {},
     "output_type": "execute_result"
    }
   ],
   "source": [
    "import __main__\n",
    "not(hasattr(__main__, '__file__'))"
   ]
  },
  {
   "cell_type": "code",
   "execution_count": null,
   "metadata": {},
   "outputs": [],
   "source": []
  }
 ],
 "metadata": {
  "kernelspec": {
   "display_name": "Python 3 (ipykernel)",
   "language": "python",
   "name": "python3"
  },
  "language_info": {
   "codemirror_mode": {
    "name": "ipython",
    "version": 3
   },
   "file_extension": ".py",
   "mimetype": "text/x-python",
   "name": "python",
   "nbconvert_exporter": "python",
   "pygments_lexer": "ipython3",
   "version": "3.11.6"
  }
 },
 "nbformat": 4,
 "nbformat_minor": 5
}
