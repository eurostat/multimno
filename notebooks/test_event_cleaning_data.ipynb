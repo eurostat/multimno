{
 "cells": [
  {
   "cell_type": "code",
   "execution_count": 1,
   "id": "2db74e4b-3c0c-4930-89c6-27f98637ca09",
   "metadata": {},
   "outputs": [],
   "source": [
    "import pandas as pd\n",
    "from hashlib import sha256\n",
    "import pyspark\n",
    "from pyspark.sql import SparkSession\n",
    "import pyspark.sql.functions as F\n",
    "from pyspark.sql.types import StructType, StructField, StringType, IntegerType, FloatType, BinaryType\n",
    "\n",
    "from core.data_objects.bronze.bronze_event_data_object import BronzeEventDataObject"
   ]
  },
  {
   "cell_type": "code",
   "execution_count": 2,
   "id": "b334f8c6-7d4c-434b-8c2a-0cc7b6958fef",
   "metadata": {},
   "outputs": [
    {
     "name": "stderr",
     "output_type": "stream",
     "text": [
      "Setting default log level to \"WARN\".\n",
      "To adjust logging level use sc.setLogLevel(newLevel). For SparkR, use setLogLevel(newLevel).\n",
      "23/12/14 13:18:58 WARN NativeCodeLoader: Unable to load native-hadoop library for your platform... using builtin-java classes where applicable\n",
      "23/12/14 13:18:59 WARN Utils: Service 'SparkUI' could not bind on port 4040. Attempting port 4041.\n"
     ]
    }
   ],
   "source": [
    "spark = SparkSession.builder.appName(\"test_mno_event_data\").getOrCreate()"
   ]
  },
  {
   "cell_type": "code",
   "execution_count": 3,
   "id": "b3af8cf1-51f3-429c-9ab5-a5e1c8749e3c",
   "metadata": {},
   "outputs": [],
   "source": [
    "# create data with errors to check filters\n",
    "data = {\n",
    "    'user_id':['00', '1', '1','1','2', '2', '2', '3', '3', '3'],\n",
    "    'timestamp': ['2023-01-01T00:12:00', None, '2023-01-01T00:00:00', '2023-01-01T00:03:00', \n",
    "                  '2023-05-01T00:00:00', '2023-05-01T01:00:00', '2023-05-01T01:00:00', \n",
    "                  '2023-01-01T00:03:00', 'abc', '2023-01-01T00:03:00'],\n",
    "    'mcc': [254, 254, 254, 254, 254, 254, 254, 254, 300000, 254], \n",
    "    'cell_id': ['214030412038931', '214030412038931', '214030412038931', \n",
    "                '214030412038931', '214030412038935', None, None, None, '214030412038939', None], \n",
    "    'latitude': [-3.62958, -3.62954, -3.62958, -3.62954, None, -3.62959, -3.62950, None, None, 99999],\n",
    "    'longitude': [40.51873, 40.51870, 40.51873, 40.51870, None, None, 40.51874, None, None, 9999],\n",
    "    'loc_error': [100, 100, 100, 100, None, None, 100, None, None, None]\n",
    "}"
   ]
  },
  {
   "cell_type": "code",
   "execution_count": 4,
   "id": "b7d6d600-b129-4cb1-a106-32d3e7eca8f5",
   "metadata": {},
   "outputs": [],
   "source": [
    "# some preprocessing\n",
    "mno_data = pd.DataFrame(data)\n",
    "mno_data['user_id'] = mno_data['user_id'].apply(lambda x: sha256(x.encode('utf-8')).digest())\n",
    "mno_data.loc[0, 'user_id'] = None\n",
    "mno_data = mno_data.replace({float('nan'): None})"
   ]
  },
  {
   "cell_type": "code",
   "execution_count": 5,
   "id": "f5e3a80f-84af-4829-a7bc-9afbdc4ba0a5",
   "metadata": {},
   "outputs": [
    {
     "name": "stderr",
     "output_type": "stream",
     "text": [
      "                                                                                \r"
     ]
    }
   ],
   "source": [
    "PATH = '/opt/data/lakehouse/bronze/mno_events'\n",
    "number_of_folders = 5 # logically not more than 30/31\n",
    "spark_df = spark.createDataFrame(mno_data, schema = BronzeEventDataObject.SCHEMA)\n",
    "for i in range(number_of_folders):\n",
    "    spark_df.write.parquet(f\"{PATH}/2023010{str(i+1)}\", mode='overwrite')"
   ]
  },
  {
   "cell_type": "code",
   "execution_count": null,
   "id": "952291d5",
   "metadata": {},
   "outputs": [],
   "source": []
  }
 ],
 "metadata": {
  "kernelspec": {
   "display_name": "Python 3 (ipykernel)",
   "language": "python",
   "name": "python3"
  },
  "language_info": {
   "codemirror_mode": {
    "name": "ipython",
    "version": 3
   },
   "file_extension": ".py",
   "mimetype": "text/x-python",
   "name": "python",
   "nbconvert_exporter": "python",
   "pygments_lexer": "ipython3",
   "version": "3.11.6"
  }
 },
 "nbformat": 4,
 "nbformat_minor": 5
}
