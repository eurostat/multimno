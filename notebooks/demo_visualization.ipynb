{
    "cells": [
        {
            "cell_type": "markdown",
            "id": "ea9c421a",
            "metadata": {},
            "source": [
                "# Event pipeline demo visualization"
            ]
        },
        {
            "cell_type": "code",
            "execution_count": 1,
            "id": "0407a433-91be-47b2-a5bb-90bfbb16b511",
            "metadata": {
                "tags": []
            },
            "outputs": [
                {
                    "name": "stderr",
                    "output_type": "stream",
                    "text": [
                        "24/01/22 10:33:54 WARN NativeCodeLoader: Unable to load native-hadoop library for your platform... using builtin-java classes where applicable\n"
                    ]
                }
            ],
            "source": [
                "# Init\n",
                "from multimno.core.spark_session import generate_spark_session\n",
                "from multimno.core.configuration import parse_configuration\n",
                "from multimno.core.data_objects.bronze.bronze_event_data_object import BronzeEventDataObject\n",
                "from multimno.core.data_objects.silver.silver_event_data_object import SilverEventDataObject\n",
                "\n",
                "config_path = \"/opt/dev/tests/test_resources/testing_spark.ini\"\n",
                "spark = generate_spark_session(parse_configuration(config_path))"
            ]
        },
        {
            "cell_type": "markdown",
            "id": "3ed5157f-5f01-473b-93d3-84b4f0c218f1",
            "metadata": {},
            "source": [
                "# Visualize Synthetic Event data"
            ]
        },
        {
            "cell_type": "code",
            "execution_count": 2,
            "id": "ad474034-b91c-44dc-a81c-7d7135c780de",
            "metadata": {},
            "outputs": [
                {
                    "name": "stdout",
                    "output_type": "stream",
                    "text": [
                        "+--------------------+-------------------+---+---------------+--------+---------+---------+----+-----+---+\n",
                        "|             user_id|          timestamp|mcc|        cell_id|latitude|longitude|loc_error|year|month|day|\n",
                        "+--------------------+-------------------+---+---------------+--------+---------+---------+----+-----+---+\n",
                        "|[59 57 59 31 4E 5...|2023-01-01T00:00:00|154|864271311346020|    null|     null|     null|2023|    1|  1|\n",
                        "|[59 57 59 31 4E 5...|2023-01-01T19:12:00|154|739270974630659|    null|     null|     null|2023|    1|  1|\n",
                        "|[59 32 51 77 4E 4...|2023-01-01T00:00:00|154|956403845718259|    null|     null|     null|2023|    1|  1|\n",
                        "|[59 32 51 77 4E 4...|2023-01-01T19:12:00|154|322967902442235|    null|     null|     null|2023|    1|  1|\n",
                        "|[59 32 51 79 4E 6...|2023-01-01T00:00:00|154|582985296058444|    null|     null|     null|2023|    1|  1|\n",
                        "|[59 32 51 79 4E 6...|2023-01-01T19:12:00|154|956101528121349|    null|     null|     null|2023|    1|  1|\n",
                        "|[59 57 59 31 4E 5...|2023-01-04T04:48:00|154|828906625006516|    null|     null|     null|2023|    1|  4|\n",
                        "|[59 32 51 77 4E 4...|2023-01-04T04:48:00|154|280396296797164|    null|     null|     null|2023|    1|  4|\n",
                        "|[59 32 51 79 4E 6...|2023-01-04T04:48:00|154|286626928594261|    null|     null|     null|2023|    1|  4|\n",
                        "|[59 57 59 31 4E 5...|         2023-01-02|154|700894158774042|    null|     null|     null|2023|    1|  2|\n",
                        "+--------------------+-------------------+---+---------------+--------+---------+---------+----+-----+---+\n",
                        "only showing top 10 rows\n",
                        "\n"
                    ]
                }
            ],
            "source": [
                "bronze_events_path = \"/opt/dev/sample_data/lakehouse/bronze/mno_events\"\n",
                "bdo = BronzeEventDataObject(spark, bronze_events_path)\n",
                "bdo.read()\n",
                "bdo.df.show(10)"
            ]
        },
        {
            "cell_type": "code",
            "execution_count": 3,
            "id": "dc1902f9-3cba-4099-9e27-01f8b58096f5",
            "metadata": {},
            "outputs": [
                {
                    "data": {
                        "text/plain": [
                            "15"
                        ]
                    },
                    "execution_count": 3,
                    "metadata": {},
                    "output_type": "execute_result"
                }
            ],
            "source": [
                "bdo.df.count()"
            ]
        },
        {
            "cell_type": "markdown",
            "id": "b44afbac",
            "metadata": {},
            "source": [
                "## Visualize Event data"
            ]
        },
        {
            "cell_type": "code",
            "execution_count": 4,
            "id": "0405bbc1",
            "metadata": {},
            "outputs": [
                {
                    "name": "stdout",
                    "output_type": "stream",
                    "text": [
                        "+--------------------+-------------------+---+---------------+--------+---------+---------+----+-----+---+\n",
                        "|             user_id|          timestamp|mcc|        cell_id|latitude|longitude|loc_error|year|month|day|\n",
                        "+--------------------+-------------------+---+---------------+--------+---------+---------+----+-----+---+\n",
                        "|[59 32 51 77 4E 4...|2023-01-01 08:00:00|154|956403845718259|    null|     null|     null|2023|    1|  1|\n",
                        "|[59 32 51 79 4E 6...|2023-01-01 08:00:00|154|582985296058444|    null|     null|     null|2023|    1|  1|\n",
                        "|[59 57 59 31 4E 5...|2023-01-01 08:00:00|154|864271311346020|    null|     null|     null|2023|    1|  1|\n",
                        "|[59 32 51 77 4E 4...|2023-01-02 03:12:00|154|322967902442235|    null|     null|     null|2023|    1|  2|\n",
                        "|[59 32 51 79 4E 6...|2023-01-02 03:12:00|154|956101528121349|    null|     null|     null|2023|    1|  2|\n",
                        "|[59 57 59 31 4E 5...|2023-01-02 03:12:00|154|739270974630659|    null|     null|     null|2023|    1|  2|\n",
                        "|[59 32 51 77 4E 4...|2023-01-04 12:48:00|154|280396296797164|    null|     null|     null|2023|    1|  4|\n",
                        "|[59 32 51 79 4E 6...|2023-01-04 12:48:00|154|286626928594261|    null|     null|     null|2023|    1|  4|\n",
                        "|[59 57 59 31 4E 5...|2023-01-04 12:48:00|154|828906625006516|    null|     null|     null|2023|    1|  4|\n",
                        "|[59 32 51 77 4E 4...|2023-01-02 22:24:00|154|725540903844898|    null|     null|     null|2023|    1|  2|\n",
                        "+--------------------+-------------------+---+---------------+--------+---------+---------+----+-----+---+\n",
                        "only showing top 10 rows\n",
                        "\n"
                    ]
                }
            ],
            "source": [
                "silver_path = \"/opt/data/lakehouse/silver\"\n",
                "silver_events_path = f\"{silver_path}/mno_events\"\n",
                "sdo = SilverEventDataObject(spark, silver_events_path)\n",
                "sdo.read()\n",
                "sdo.df.show(10)"
            ]
        },
        {
            "cell_type": "code",
            "execution_count": 5,
            "id": "ae57511c",
            "metadata": {},
            "outputs": [
                {
                    "data": {
                        "text/plain": [
                            "11"
                        ]
                    },
                    "execution_count": 5,
                    "metadata": {},
                    "output_type": "execute_result"
                }
            ],
            "source": [
                "sdo.df.count()"
            ]
        },
        {
            "cell_type": "markdown",
            "id": "b3a3d8fa",
            "metadata": {},
            "source": [
                "## Event Quality checks"
            ]
        },
        {
            "cell_type": "code",
            "execution_count": 6,
            "id": "24ca41eb",
            "metadata": {},
            "outputs": [
                {
                    "name": "stdout",
                    "output_type": "stream",
                    "text": [
                        "+--------------------------+-----------------+---------------+---------+-------------+----------------------+-----+\n",
                        "|result_timestamp          |data_period_start|data_period_end|variable |type_of_error|type_of_transformation|value|\n",
                        "+--------------------------+-----------------+---------------+---------+-------------+----------------------+-----+\n",
                        "|2024-01-22 10:33:30.852916|2023-01-01       |2023-01-05     |timestamp|null         |1                     |11   |\n",
                        "|2024-01-22 10:33:30.852916|2023-01-01       |2023-01-05     |timestamp|2            |null                  |1    |\n",
                        "|2024-01-22 10:33:30.852916|2023-01-01       |2023-01-05     |timestamp|3            |null                  |0    |\n",
                        "|2024-01-22 10:33:30.852916|2023-01-01       |2023-01-05     |timestamp|9            |null                  |11   |\n",
                        "|2024-01-22 10:33:30.852916|2023-01-01       |2023-01-05     |null     |6            |null                  |0    |\n",
                        "|2024-01-22 10:33:30.852916|2023-01-01       |2023-01-05     |null     |5            |null                  |0    |\n",
                        "|2024-01-22 10:33:30.852916|2023-01-01       |2023-01-05     |cell_id  |3            |null                  |0    |\n",
                        "|2024-01-22 10:33:30.852916|2023-01-01       |2023-01-05     |cell_id  |9            |null                  |12   |\n",
                        "|2024-01-22 10:33:30.852916|2023-01-01       |2023-01-05     |user_id  |1            |null                  |1    |\n",
                        "|2024-01-22 10:33:30.852916|2023-01-01       |2023-01-05     |user_id  |9            |null                  |14   |\n",
                        "|2024-01-22 10:33:30.852916|2023-01-01       |2023-01-05     |timestamp|1            |null                  |2    |\n",
                        "|2024-01-22 10:33:30.852916|2023-01-01       |2023-01-05     |mcc      |1            |null                  |0    |\n",
                        "|2024-01-22 10:33:30.852916|2023-01-01       |2023-01-05     |mcc      |3            |null                  |0    |\n",
                        "|2024-01-22 10:33:30.852916|2023-01-01       |2023-01-05     |mcc      |9            |null                  |12   |\n",
                        "+--------------------------+-----------------+---------------+---------+-------------+----------------------+-----+\n",
                        "\n"
                    ]
                }
            ],
            "source": [
                "input_path = f\"{silver_path}/event_syntactic_quality_metrics_by_column\"\n",
                "\n",
                "df = spark.read.format('parquet').load(input_path)\n",
                "df.show(20, truncate=False)"
            ]
        },
        {
            "cell_type": "code",
            "execution_count": 7,
            "id": "7e5d33a3",
            "metadata": {},
            "outputs": [
                {
                    "name": "stdout",
                    "output_type": "stream",
                    "text": [
                        "+---------------+--------------------+-----------------+---------------+----------+\n",
                        "|        cell_id|             user_id|initial_frequency|final_frequency|      date|\n",
                        "+---------------+--------------------+-----------------+---------------+----------+\n",
                        "|322967902442235|[59 32 51 77 4E 4...|                1|              1|2023-01-01|\n",
                        "|956403845718259|[59 32 51 77 4E 4...|                1|              1|2023-01-01|\n",
                        "|739270974630659|[59 57 59 31 4E 5...|                1|              1|2023-01-01|\n",
                        "|864271311346020|[59 57 59 31 4E 5...|                1|              1|2023-01-01|\n",
                        "|956101528121349|[59 32 51 79 4E 6...|                1|              1|2023-01-01|\n",
                        "|582985296058444|[59 32 51 79 4E 6...|                1|              1|2023-01-01|\n",
                        "|543163741337240|[59 32 51 79 4E 6...|                1|              1|2023-01-02|\n",
                        "|725540903844898|[59 32 51 77 4E 4...|                1|              1|2023-01-02|\n",
                        "|700894158774042|[59 57 59 31 4E 5...|                1|              0|2023-01-02|\n",
                        "|280396296797164|[59 32 51 77 4E 4...|                1|              1|2023-01-04|\n",
                        "|828906625006516|[59 57 59 31 4E 5...|                1|              1|2023-01-04|\n",
                        "|286626928594261|[59 32 51 79 4E 6...|                1|              1|2023-01-04|\n",
                        "|           null|                null|                1|              0|2023-01-03|\n",
                        "|170864181413513|[59 32 51 79 4E 6...|                1|              0|2023-01-03|\n",
                        "|524810501488284|[59 32 51 77 4E 4...|                1|              0|2023-01-03|\n",
                        "+---------------+--------------------+-----------------+---------------+----------+\n",
                        "\n"
                    ]
                }
            ],
            "source": [
                "input_path = f\"{silver_path}/event_syntactic_quality_metrics_frequency_distribution\"\n",
                "\n",
                "df = spark.read.format('parquet').load(input_path)\n",
                "df.show()"
            ]
        }
    ],
    "metadata": {
        "kernelspec": {
            "display_name": "Python 3 (ipykernel)",
            "language": "python",
            "name": "python3"
        },
        "language_info": {
            "codemirror_mode": {
                "name": "ipython",
                "version": 3
            },
            "file_extension": ".py",
            "mimetype": "text/x-python",
            "name": "python",
            "nbconvert_exporter": "python",
            "pygments_lexer": "ipython3",
            "version": "3.11.6"
        }
    },
    "nbformat": 4,
    "nbformat_minor": 5
}
