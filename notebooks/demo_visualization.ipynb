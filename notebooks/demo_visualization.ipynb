{
 "cells": [
  {
   "cell_type": "markdown",
   "id": "ea9c421a",
   "metadata": {},
   "source": [
    "# Event pipeline demo visualization"
   ]
  },
  {
   "cell_type": "code",
   "execution_count": null,
   "id": "0407a433-91be-47b2-a5bb-90bfbb16b511",
   "metadata": {
    "tags": []
   },
   "outputs": [],
   "source": [
    "# Init\n",
    "from core.spark_session import generate_spark_session\n",
    "from core.configuration import parse_configuration\n",
    "from core.data_objects.bronze.bronze_event_data_object import BronzeEventDataObject\n",
    "from core.data_objects.silver.silver_event_data_object import SilverEventDataObject\n",
    "\n",
    "config_path = \"/opt/dev/src/tests/test_resources/testing_spark.ini\"\n",
    "spark = generate_spark_session(parse_configuration(config_path))"
   ]
  },
  {
   "cell_type": "markdown",
   "id": "3ed5157f-5f01-473b-93d3-84b4f0c218f1",
   "metadata": {},
   "source": [
    "# Visualize Synthetic Event data"
   ]
  },
  {
   "cell_type": "code",
   "execution_count": null,
   "id": "ad474034-b91c-44dc-a81c-7d7135c780de",
   "metadata": {},
   "outputs": [],
   "source": [
    "bronze_events_path = \"/opt/dev/sample_data/lakehouse/bronze/mno_events\"\n",
    "bdo = BronzeEventDataObject(spark, bronze_events_path)\n",
    "bdo.read()\n",
    "bdo.df.show(10)"
   ]
  },
  {
   "cell_type": "code",
   "execution_count": null,
   "id": "dc1902f9-3cba-4099-9e27-01f8b58096f5",
   "metadata": {},
   "outputs": [],
   "source": [
    "bdo.df.count()"
   ]
  },
  {
   "cell_type": "markdown",
   "id": "b44afbac",
   "metadata": {},
   "source": [
    "## Visualize Event data"
   ]
  },
  {
   "cell_type": "code",
   "execution_count": null,
   "id": "0405bbc1",
   "metadata": {},
   "outputs": [],
   "source": [
    "silver_path = \"/opt/data/lakehouse/silver\"\n",
    "silver_events_path = f\"{silver_path}/mno_events\"\n",
    "sdo = SilverEventDataObject(spark, silver_events_path)\n",
    "sdo.read()\n",
    "sdo.df.show(10)"
   ]
  },
  {
   "cell_type": "code",
   "execution_count": null,
   "id": "ae57511c",
   "metadata": {},
   "outputs": [],
   "source": [
    "sdo.df.count()"
   ]
  },
  {
   "cell_type": "markdown",
   "id": "b3a3d8fa",
   "metadata": {},
   "source": [
    "## Event Quality checks"
   ]
  },
  {
   "cell_type": "code",
   "execution_count": null,
   "id": "24ca41eb",
   "metadata": {},
   "outputs": [],
   "source": [
    "input_path = f\"{silver_path}/event_syntactic_quality_metrics_by_column\"\n",
    "\n",
    "df = spark.read.format('parquet').load(input_path)\n",
    "df.show(20, truncate=False)"
   ]
  },
  {
   "cell_type": "code",
   "execution_count": null,
   "id": "7e5d33a3",
   "metadata": {},
   "outputs": [],
   "source": [
    "input_path = f\"{silver_path}/event_syntactic_quality_metrics_frequency_distribution\"\n",
    "\n",
    "df = spark.read.format('parquet').load(input_path)\n",
    "df.show()"
   ]
  }
 ],
 "metadata": {
  "kernelspec": {
   "display_name": "Python 3 (ipykernel)",
   "language": "python",
   "name": "python3"
  },
  "language_info": {
   "codemirror_mode": {
    "name": "ipython",
    "version": 3
   },
   "file_extension": ".py",
   "mimetype": "text/x-python",
   "name": "python",
   "nbconvert_exporter": "python",
   "pygments_lexer": "ipython3",
   "version": "3.11.6"
  }
 },
 "nbformat": 4,
 "nbformat_minor": 5
}
