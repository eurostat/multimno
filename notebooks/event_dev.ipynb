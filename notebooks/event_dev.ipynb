{
 "cells": [
  {
   "cell_type": "markdown",
   "id": "ea9c421a",
   "metadata": {},
   "source": [
    "# Synthetic Events"
   ]
  },
  {
   "cell_type": "code",
   "execution_count": null,
   "id": "0407a433-91be-47b2-a5bb-90bfbb16b511",
   "metadata": {
    "tags": []
   },
   "outputs": [],
   "source": [
    "from components.ingestion.synthetic.synthetic_errors import SyntheticErrors\n",
    "from components.ingestion.synthetic.synthetic_events import SyntheticEvents"
   ]
  },
  {
   "cell_type": "markdown",
   "metadata": {},
   "source": [
    "## Init Component"
   ]
  },
  {
   "cell_type": "code",
   "execution_count": null,
   "metadata": {},
   "outputs": [],
   "source": [
    "root_path = \"/opt/dev\"\n",
    "\n",
    "general_config = f\"{root_path}/pipe_configs/configurations/general_config.ini\"\n",
    "component_config = f\"{root_path}/pipe_configs/configurations/synthetic_events/synth_config.ini\""
   ]
  },
  {
   "cell_type": "code",
   "execution_count": null,
   "metadata": {},
   "outputs": [],
   "source": [
    "# Start Component\n",
    "events = SyntheticEvents(general_config, component_config)\n",
    "errors = SyntheticErrors(general_config, component_config)\n",
    "\n",
    "events.spark"
   ]
  },
  {
   "cell_type": "markdown",
   "id": "b3a3d8fa",
   "metadata": {},
   "source": [
    "## Main"
   ]
  },
  {
   "cell_type": "code",
   "execution_count": null,
   "id": "906314e8",
   "metadata": {},
   "outputs": [],
   "source": [
    "# events.execute()\n",
    "errors.execute()"
   ]
  },
  {
   "cell_type": "code",
   "execution_count": null,
   "id": "dc6689af",
   "metadata": {},
   "outputs": [],
   "source": [
    "events.execute()\n",
    "errors.read()\n",
    "errors.transform()"
   ]
  },
  {
   "cell_type": "code",
   "execution_count": null,
   "id": "0ed6fb65",
   "metadata": {},
   "outputs": [],
   "source": [
    "input_df = errors.input_data_objects[\"SyntheticEvents\"].df\n",
    "input_df.show()"
   ]
  },
  {
   "cell_type": "code",
   "execution_count": null,
   "id": "3437523c",
   "metadata": {},
   "outputs": [],
   "source": [
    "input_df.select('timestamp').distinct().sort('timestamp').show()"
   ]
  },
  {
   "cell_type": "code",
   "execution_count": null,
   "id": "7869b5ef",
   "metadata": {},
   "outputs": [],
   "source": [
    "df = errors.output_data_objects[\"SyntheticErrors\"].df\n",
    "df.cache()\n",
    "df.show()"
   ]
  },
  {
   "cell_type": "code",
   "execution_count": null,
   "id": "e8b51d4a",
   "metadata": {},
   "outputs": [],
   "source": [
    "df.select('timestamp').distinct().sort('timestamp').show(truncate=False)"
   ]
  },
  {
   "cell_type": "code",
   "execution_count": null,
   "id": "7b001e06",
   "metadata": {},
   "outputs": [],
   "source": [
    "df.printSchema()"
   ]
  },
  {
   "cell_type": "code",
   "execution_count": null,
   "id": "71070ec5",
   "metadata": {},
   "outputs": [],
   "source": [
    "errors.write()"
   ]
  },
  {
   "cell_type": "code",
   "execution_count": null,
   "id": "43aba223",
   "metadata": {},
   "outputs": [],
   "source": [
    "input_df.count()"
   ]
  }
 ],
 "metadata": {
  "kernelspec": {
   "display_name": "Python 3 (ipykernel)",
   "language": "python",
   "name": "python3"
  },
  "language_info": {
   "codemirror_mode": {
    "name": "ipython",
    "version": 3
   },
   "file_extension": ".py",
   "mimetype": "text/x-python",
   "name": "python",
   "nbconvert_exporter": "python",
   "pygments_lexer": "ipython3",
   "version": "3.11.6"
  }
 },
 "nbformat": 4,
 "nbformat_minor": 5
}
