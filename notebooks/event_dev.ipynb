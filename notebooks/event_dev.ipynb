{
 "cells": [
  {
   "cell_type": "markdown",
   "id": "ea9c421a",
   "metadata": {},
   "source": [
    "# Synthetic Events"
   ]
  },
  {
   "cell_type": "code",
   "execution_count": null,
   "id": "0407a433-91be-47b2-a5bb-90bfbb16b511",
   "metadata": {
    "tags": []
   },
   "outputs": [],
   "source": [
    "from components.ingestion.synthetic.event_synthetic import EventSynthetic"
   ]
  },
  {
   "cell_type": "markdown",
   "metadata": {},
   "source": [
    "## Init Component"
   ]
  },
  {
   "cell_type": "code",
   "execution_count": null,
   "metadata": {},
   "outputs": [],
   "source": [
    "root_path = \"/opt/dev\"\n",
    "\n",
    "general_config = f\"{root_path}/pipe_configs/configurations/general_config.ini\"\n",
    "component_config = f\"{root_path}/pipe_configs/configurations/event/event_synthetic.ini\""
   ]
  },
  {
   "cell_type": "code",
   "execution_count": null,
   "metadata": {},
   "outputs": [],
   "source": [
    "# Start Component\n",
    "event_synthetic = EventSynthetic(general_config, component_config)\n",
    "event_synthetic.spark"
   ]
  },
  {
   "cell_type": "markdown",
   "id": "b3a3d8fa",
   "metadata": {},
   "source": [
    "## Main"
   ]
  },
  {
   "cell_type": "code",
   "execution_count": null,
   "id": "fd7e22c5-4538-465e-962d-64e154696a83",
   "metadata": {
    "tags": []
   },
   "outputs": [],
   "source": [
    "from core.data_objects.bronze.bronze_event_data_object import BronzeEventDataObject\n",
    "import random\n",
    "\n",
    "# MVP - Synthetic\n",
    "spark = event_synthetic.spark\n",
    "schema = event_synthetic.output_data_objects[BronzeEventDataObject.ID].SCHEMA\n",
    "\n",
    "n_agents = event_synthetic.config.getint('EventSynthetic', 'n_agents')\n",
    "n_events = event_synthetic.config.getint('EventSynthetic', 'n_events')\n",
    "seed = event_synthetic.config.getint('EventSynthetic', 'seed')\n",
    "\n",
    "sdate = event_synthetic.config.get('EventSynthetic', 'dates_string')\n",
    "year = sdate[:4]\n",
    "month = sdate[4:6]\n",
    "day = sdate[6:8]\n",
    "\n",
    "\n",
    "data = []\n",
    "for _ in range(n_agents):\n",
    "    \n",
    "    # Empty dataframe\n",
    "    # df = spark.sparkContext.emptyRDD().toDF(schema)\n",
    "\n",
    "    # Random user_id\n",
    "    # random.seed(seed)\n",
    "    user_id = random.randbytes(32)\n",
    "\n",
    "    for _ in range(n_events):\n",
    "        # Random timestamp in path\n",
    "        random_date = f\"{year}-{month}-{day}T{random.randint(0, 23):02}:{random.randint(0, 59):02}:{random.randint(0, 59):02}\"\n",
    "        # random mcc\n",
    "        random_mcc = random.randint(0, 999)\n",
    "        # random cell_id\n",
    "        cell_id = f\"{random_mcc:03}\" + \"\".join([str(random.randint(0, 9)) for _ in range(12)])\n",
    "\n",
    "        # latitude\n",
    "        latitude = None\n",
    "        # longitude\n",
    "        longitude = None\n",
    "        # loc_error\n",
    "        loc_error = None\n",
    "        # Create row\n",
    "        row = [user_id, random_date, random_mcc, cell_id, latitude, longitude, loc_error]\n",
    "        # Append row to data\n",
    "        data.append(row)\n",
    "\n",
    "\n",
    "df = spark.createDataFrame(data, schema)\n",
    "df.show()"
   ]
  },
  {
   "cell_type": "code",
   "execution_count": null,
   "metadata": {},
   "outputs": [],
   "source": [
    "event_do = event_synthetic.output_data_objects[BronzeEventDataObject.ID]\n",
    "sdate = event_synthetic.config.get('EventSynthetic', 'dates_string')\n",
    "path = f\"{event_do.default_path}/{sdate}\"\n",
    "print(path)"
   ]
  },
  {
   "cell_type": "code",
   "execution_count": null,
   "metadata": {},
   "outputs": [],
   "source": [
    "event_do.df = df\n",
    "event_do.write(path)"
   ]
  },
  {
   "cell_type": "markdown",
   "metadata": {},
   "source": [
    "# Event cleaning"
   ]
  },
  {
   "cell_type": "code",
   "execution_count": null,
   "metadata": {},
   "outputs": [],
   "source": [
    "from components.execution.event_cleaning.event_cleaning import EventCleaning\n",
    "from core.data_objects.bronze.bronze_event_data_object import BronzeEventDataObject\n",
    "from core.data_objects.silver.silver_event_data_object import SilverEventDataObject"
   ]
  },
  {
   "cell_type": "code",
   "execution_count": null,
   "metadata": {},
   "outputs": [],
   "source": [
    "root_path = \"/opt/dev\"\n",
    "\n",
    "general_config = f\"{root_path}/pipe_configs/configurations/general_config.ini\"\n",
    "component_config = f\"{root_path}/pipe_configs/configurations/event/event_cleaning.ini\""
   ]
  },
  {
   "cell_type": "code",
   "execution_count": null,
   "metadata": {},
   "outputs": [],
   "source": [
    "event_cleaning = EventCleaning(general_config, component_config)"
   ]
  },
  {
   "cell_type": "code",
   "execution_count": null,
   "metadata": {},
   "outputs": [],
   "source": [
    "do = event_cleaning.input_data_objects[BronzeEventDataObject.ID]\n",
    "sdate = event_cleaning.config.get(EventCleaning.COMPONENT_ID, 'dates_string')\n",
    "path = f\"{do.default_path}/{sdate}\"\n",
    "print(path)"
   ]
  },
  {
   "cell_type": "code",
   "execution_count": null,
   "metadata": {},
   "outputs": [],
   "source": [
    "do.read(path)\n",
    "df = do.df\n",
    "df.show()"
   ]
  },
  {
   "cell_type": "code",
   "execution_count": null,
   "metadata": {},
   "outputs": [],
   "source": [
    "df.printSchema()"
   ]
  },
  {
   "cell_type": "code",
   "execution_count": null,
   "metadata": {},
   "outputs": [],
   "source": [
    "import pyspark.sql.functions as psf\n",
    "date_format = \"yyyy-MM-ddTHH:mm:ss\"\n",
    "\n",
    "# Parse timestamp to timestamp\n",
    "df = df.withColumn('timestamp', psf.to_timestamp('timestamp'))\n",
    "\n",
    "# Extract year month day \n",
    "df = df.withColumns({\n",
    "    'year': psf.year('timestamp'),\n",
    "    'month': psf.month('timestamp'),\n",
    "    'day': psf.dayofmonth('timestamp'),\n",
    "})"
   ]
  },
  {
   "cell_type": "code",
   "execution_count": null,
   "metadata": {},
   "outputs": [],
   "source": [
    "df.printSchema()"
   ]
  },
  {
   "cell_type": "code",
   "execution_count": null,
   "metadata": {},
   "outputs": [],
   "source": [
    "do_silver = event_cleaning.output_data_objects[SilverEventDataObject.ID]\n",
    "do_silver.df = df"
   ]
  },
  {
   "cell_type": "code",
   "execution_count": null,
   "metadata": {},
   "outputs": [],
   "source": [
    "event_cleaning.write()"
   ]
  },
  {
   "cell_type": "code",
   "execution_count": null,
   "metadata": {},
   "outputs": [],
   "source": []
  }
 ],
 "metadata": {
  "kernelspec": {
   "display_name": "Python 3 (ipykernel)",
   "language": "python",
   "name": "python3"
  },
  "language_info": {
   "codemirror_mode": {
    "name": "ipython",
    "version": 3
   },
   "file_extension": ".py",
   "mimetype": "text/x-python",
   "name": "python",
   "nbconvert_exporter": "python",
   "pygments_lexer": "ipython3",
   "version": "3.11.6"
  }
 },
 "nbformat": 4,
 "nbformat_minor": 5
}
