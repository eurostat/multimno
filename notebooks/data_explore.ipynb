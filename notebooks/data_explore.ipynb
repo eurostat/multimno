{
 "cells": [
  {
   "cell_type": "markdown",
   "id": "ea9c421a",
   "metadata": {},
   "source": [
    "# Synthetic Events"
   ]
  },
  {
   "cell_type": "code",
   "execution_count": null,
   "id": "0407a433-91be-47b2-a5bb-90bfbb16b511",
   "metadata": {
    "tags": []
   },
   "outputs": [],
   "source": [
    "from core.spark_session import generate_spark_session\n",
    "from core.configuration import parse_configuration"
   ]
  },
  {
   "cell_type": "markdown",
   "metadata": {},
   "source": [
    "## Init Component"
   ]
  },
  {
   "cell_type": "code",
   "execution_count": null,
   "metadata": {},
   "outputs": [],
   "source": [
    "config_path = \"/opt/dev/src/tests/test_resources/testing_spark.ini\""
   ]
  },
  {
   "cell_type": "code",
   "execution_count": null,
   "id": "93222a20",
   "metadata": {},
   "outputs": [],
   "source": [
    "spark = generate_spark_session(parse_configuration(config_path))"
   ]
  },
  {
   "cell_type": "code",
   "execution_count": null,
   "metadata": {},
   "outputs": [],
   "source": [
    "input_path = \"/opt/data/lakehouse/silver/mno_events/\"\n",
    "\n",
    "df = spark.read.format('parquet').load(input_path)\n",
    "df.show()"
   ]
  },
  {
   "cell_type": "code",
   "execution_count": null,
   "id": "ae57511c",
   "metadata": {},
   "outputs": [],
   "source": [
    "df.count()"
   ]
  },
  {
   "cell_type": "code",
   "execution_count": null,
   "id": "91226f3d",
   "metadata": {},
   "outputs": [],
   "source": [
    "df.select('user_id').distinct().show()"
   ]
  },
  {
   "cell_type": "code",
   "execution_count": null,
   "id": "dcd120fb",
   "metadata": {},
   "outputs": [],
   "source": [
    "df.groupBy('user_id').count().show()"
   ]
  },
  {
   "cell_type": "markdown",
   "id": "b3a3d8fa",
   "metadata": {},
   "source": [
    "## Quality checks"
   ]
  },
  {
   "cell_type": "code",
   "execution_count": null,
   "metadata": {},
   "outputs": [],
   "source": [
    "input_path = \"/opt/data/lakehouse/silver/event_syntactic_quality_metrics_by_column\"\n",
    "\n",
    "df = spark.read.format('parquet').load(input_path)\n",
    "df.show(20, truncate=False)"
   ]
  },
  {
   "cell_type": "code",
   "execution_count": null,
   "id": "7e5d33a3",
   "metadata": {},
   "outputs": [],
   "source": [
    "input_path = \"/opt/data/lakehouse/silver/event_syntactic_quality_metrics_frequency_distribution/20230102\"\n",
    "\n",
    "df = spark.read.format('parquet').load(input_path)\n",
    "df.show()"
   ]
  },
  {
   "cell_type": "markdown",
   "id": "0e11e84b",
   "metadata": {},
   "source": [
    "# Synthetic check"
   ]
  },
  {
   "cell_type": "code",
   "execution_count": null,
   "id": "fb13a2a9",
   "metadata": {},
   "outputs": [],
   "source": [
    "from core.spark_session import generate_spark_session\n",
    "from core.configuration import parse_configuration"
   ]
  },
  {
   "cell_type": "code",
   "execution_count": null,
   "id": "94a0878e",
   "metadata": {},
   "outputs": [],
   "source": [
    "config_path = \"/opt/dev/src/tests/test_resources/testing_spark.ini\"\n",
    "spark = generate_spark_session(parse_configuration(config_path))"
   ]
  },
  {
   "cell_type": "code",
   "execution_count": null,
   "id": "3a880f45",
   "metadata": {},
   "outputs": [],
   "source": [
    "input_path = \"/opt/data/synth_events/\"\n",
    "\n",
    "df = spark.read.format('parquet').load(input_path)\n",
    "df.show()"
   ]
  },
  {
   "cell_type": "code",
   "execution_count": null,
   "id": "5adf5707",
   "metadata": {},
   "outputs": [],
   "source": [
    "input_path = \"/opt/data/synth_errors/\"\n",
    "\n",
    "df = spark.read.format('parquet').load(input_path)\n",
    "df.show()"
   ]
  },
  {
   "cell_type": "code",
   "execution_count": null,
   "id": "82f974da",
   "metadata": {},
   "outputs": [],
   "source": []
  }
 ],
 "metadata": {
  "kernelspec": {
   "display_name": "Python 3 (ipykernel)",
   "language": "python",
   "name": "python3"
  },
  "language_info": {
   "codemirror_mode": {
    "name": "ipython",
    "version": 3
   },
   "file_extension": ".py",
   "mimetype": "text/x-python",
   "name": "python",
   "nbconvert_exporter": "python",
   "pygments_lexer": "ipython3",
   "version": "3.11.6"
  }
 },
 "nbformat": 4,
 "nbformat_minor": 5
}
