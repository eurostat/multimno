{
 "cells": [
  {
   "cell_type": "markdown",
   "id": "ea9c421a",
   "metadata": {},
   "source": [
    "# Synthetic Events"
   ]
  },
  {
   "cell_type": "code",
   "execution_count": null,
   "id": "0407a433-91be-47b2-a5bb-90bfbb16b511",
   "metadata": {
    "tags": []
   },
   "outputs": [],
   "source": [
    "from core.spark_session import generate_spark_session\n",
    "from core.configuration import parse_configuration\n",
    "\n",
    "from core.data_objects.silver.silver_event_data_object import SilverEventDataObject"
   ]
  },
  {
   "cell_type": "markdown",
   "metadata": {},
   "source": [
    "## Init Component"
   ]
  },
  {
   "cell_type": "code",
   "execution_count": null,
   "metadata": {},
   "outputs": [],
   "source": [
    "config_path = \"/opt/dev/tests/test_resources/testing_spark.ini\""
   ]
  },
  {
   "cell_type": "code",
   "execution_count": null,
   "id": "93222a20",
   "metadata": {},
   "outputs": [],
   "source": [
    "spark = generate_spark_session(parse_configuration(config_path))"
   ]
  },
  {
   "cell_type": "code",
   "execution_count": null,
   "id": "7ab58e4f",
   "metadata": {},
   "outputs": [],
   "source": [
    "silver_path = \"/opt/data/lakehouse/silver\"\n",
    "input_path = f\"{silver_path}/mno_events/\"\n",
    "sdo = SilverEventDataObject(spark, input_path)\n",
    "sdo.read()\n",
    "df = sdo.df"
   ]
  },
  {
   "cell_type": "code",
   "execution_count": null,
   "id": "0405bbc1",
   "metadata": {},
   "outputs": [],
   "source": [
    "df.show()"
   ]
  },
  {
   "cell_type": "code",
   "execution_count": null,
   "id": "ae57511c",
   "metadata": {},
   "outputs": [],
   "source": [
    "df.count()"
   ]
  },
  {
   "cell_type": "code",
   "execution_count": null,
   "id": "91226f3d",
   "metadata": {},
   "outputs": [],
   "source": [
    "df.select('mcc').distinct().show()"
   ]
  },
  {
   "cell_type": "code",
   "execution_count": null,
   "id": "dcd120fb",
   "metadata": {},
   "outputs": [],
   "source": [
    "df.groupBy('mcc').count().show()"
   ]
  },
  {
   "cell_type": "markdown",
   "id": "b3a3d8fa",
   "metadata": {},
   "source": [
    "## Quality checks"
   ]
  },
  {
   "cell_type": "code",
   "execution_count": null,
   "metadata": {},
   "outputs": [],
   "source": [
    "input_path = f\"{silver_path}/event_syntactic_quality_metrics_by_column\"\n",
    "\n",
    "df = spark.read.format('parquet').load(input_path)\n",
    "df.show(20, truncate=False)"
   ]
  },
  {
   "cell_type": "code",
   "execution_count": null,
   "id": "7e5d33a3",
   "metadata": {},
   "outputs": [],
   "source": [
    "input_path = f\"{silver_path}/event_syntactic_quality_metrics_frequency_distribution\"\n",
    "\n",
    "df = spark.read.format('parquet').load(input_path)\n",
    "df.show()"
   ]
  },
  {
   "cell_type": "code",
   "execution_count": null,
   "id": "2a1fc783",
   "metadata": {},
   "outputs": [],
   "source": [
    "df.count()"
   ]
  },
  {
   "cell_type": "markdown",
   "id": "0e11e84b",
   "metadata": {},
   "source": [
    "# Synthetic check"
   ]
  },
  {
   "cell_type": "code",
   "execution_count": null,
   "id": "fb13a2a9",
   "metadata": {},
   "outputs": [],
   "source": [
    "from core.spark_session import generate_spark_session\n",
    "from core.configuration import parse_configuration"
   ]
  },
  {
   "cell_type": "code",
   "execution_count": null,
   "id": "94a0878e",
   "metadata": {},
   "outputs": [],
   "source": [
    "config_path = \"/opt/dev/tests/test_resources/testing_spark.ini\"\n",
    "spark = generate_spark_session(parse_configuration(config_path))"
   ]
  },
  {
   "cell_type": "code",
   "execution_count": null,
   "id": "3a880f45",
   "metadata": {},
   "outputs": [],
   "source": [
    "from pyspark.sql.types import StructType, StructField, StringType, IntegerType, FloatType, BinaryType\n",
    "input_path = \"/opt/dev/sample_data/lakehouse/bronze/mno_events\"\n",
    "SCHEMA = StructType([\n",
    "        StructField(\"latitude\", StringType(), nullable=True),\n",
    "    ])\n",
    "\n",
    "df = spark.read.format('parquet').load(input_path)\n",
    "df.show(truncate=False)"
   ]
  },
  {
   "cell_type": "code",
   "execution_count": null,
   "id": "b546299b",
   "metadata": {},
   "outputs": [],
   "source": [
    "df.printSchema()"
   ]
  },
  {
   "cell_type": "code",
   "execution_count": null,
   "id": "1e04d43a",
   "metadata": {},
   "outputs": [],
   "source": [
    "import pyspark.sql.functions as F\n",
    "df.filter(F.col('longitude').isNotNull()).show()"
   ]
  },
  {
   "cell_type": "code",
   "execution_count": null,
   "id": "14fb1069",
   "metadata": {},
   "outputs": [],
   "source": [
    "df.select('timestamp').distinct().show(truncate=False)"
   ]
  },
  {
   "cell_type": "code",
   "execution_count": null,
   "id": "74f1588d",
   "metadata": {},
   "outputs": [],
   "source": [
    "import pyspark.sql.functions as F\n",
    "\n",
    "df.withColumn('timestamp', F.date_format(F.to_timestamp(F.col('timestamp')), format=\"yyyy-MM-dd'T'HH:mm:ss\")).show()"
   ]
  },
  {
   "cell_type": "code",
   "execution_count": null,
   "id": "e875607d",
   "metadata": {},
   "outputs": [],
   "source": []
  }
 ],
 "metadata": {
  "kernelspec": {
   "display_name": "Python 3 (ipykernel)",
   "language": "python",
   "name": "python3"
  },
  "language_info": {
   "codemirror_mode": {
    "name": "ipython",
    "version": 3
   },
   "file_extension": ".py",
   "mimetype": "text/x-python",
   "name": "python",
   "nbconvert_exporter": "python",
   "pygments_lexer": "ipython3",
   "version": "3.11.6"
  }
 },
 "nbformat": 4,
 "nbformat_minor": 5
}
