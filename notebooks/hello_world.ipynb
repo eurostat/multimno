{
 "cells": [
  {
   "cell_type": "markdown",
   "id": "ea9c421a",
   "metadata": {},
   "source": [
    "# Imports"
   ]
  },
  {
   "cell_type": "code",
   "execution_count": null,
   "id": "0407a433-91be-47b2-a5bb-90bfbb16b511",
   "metadata": {
    "tags": []
   },
   "outputs": [],
   "source": [
    "from pyspark.sql.types import StructType, StructField, StringType\n",
    "from sedona.sql.types import GeometryType\n",
    "from sedona.spark import SedonaContext\n",
    "\n",
    "import pyspark.sql.functions as psf"
   ]
  },
  {
   "cell_type": "markdown",
   "metadata": {},
   "source": [
    "# Functions"
   ]
  },
  {
   "cell_type": "code",
   "execution_count": null,
   "metadata": {},
   "outputs": [],
   "source": [
    "from sedona.spark import SedonaPyDeck\n",
    "# Functions\n",
    "def view_geodf(df):\n",
    "    # PyDeck\n",
    "    fill_color=[255, 12, 250]\n",
    "    census_map = SedonaPyDeck.create_choropleth_map(df=df, fill_color=fill_color)\n",
    "    return census_map"
   ]
  },
  {
   "cell_type": "markdown",
   "id": "1496b7df",
   "metadata": {},
   "source": [
    "# Session"
   ]
  },
  {
   "cell_type": "code",
   "execution_count": null,
   "id": "786ef7b4",
   "metadata": {
    "tags": []
   },
   "outputs": [],
   "source": [
    "builder = SedonaContext.builder().appName(\n",
    "        'Sedona Session'\n",
    "    )\n",
    "    # Set sedona session\n",
    "spark = SedonaContext.create(builder.getOrCreate())\n",
    "sc = spark.sparkContext\n",
    "sc.setSystemProperty(\"sedona.global.charset\", \"utf8\")"
   ]
  },
  {
   "cell_type": "markdown",
   "id": "9f395523",
   "metadata": {},
   "source": [
    "# Variables"
   ]
  },
  {
   "cell_type": "code",
   "execution_count": null,
   "id": "3178c33b",
   "metadata": {
    "tags": []
   },
   "outputs": [],
   "source": [
    "census_path = \"/opt/data/input/euskadi.parquet\"\n",
    "output_path = \"/opt/data/output/census/\""
   ]
  },
  {
   "cell_type": "markdown",
   "id": "7cf42aed-03e8-4c4d-a9db-4bfa8d7761ce",
   "metadata": {},
   "source": [
    "# Extract"
   ]
  },
  {
   "cell_type": "code",
   "execution_count": null,
   "id": "1e8e6b28-171a-4bcf-9018-0cd4f417931a",
   "metadata": {
    "tags": []
   },
   "outputs": [],
   "source": [
    "SCHEMA = StructType([\n",
    "        StructField(\"geometry\", GeometryType(), nullable=False),\n",
    "        StructField(\"NPRO\", StringType(), nullable=True),\n",
    "    ])\n",
    "\n",
    "# Read\n",
    "df = spark.read.schema(\n",
    "            SCHEMA # Read schema\n",
    "        ).format(\n",
    "            'geoparquet'  # File format\n",
    "        ).load(\n",
    "            census_path  # Load path\n",
    "        )\n",
    "\n",
    "df.show()"
   ]
  },
  {
   "cell_type": "markdown",
   "id": "b3a3d8fa",
   "metadata": {},
   "source": [
    "# Transform"
   ]
  },
  {
   "cell_type": "code",
   "execution_count": null,
   "id": "fd7e22c5-4538-465e-962d-64e154696a83",
   "metadata": {
    "tags": []
   },
   "outputs": [],
   "source": [
    "df.withColumn('NPRO', psf.trim('NPRO')).withColumn('NCA', psf.lit('Euskadi')).createOrReplaceTempView(\"census\")\n",
    "\n",
    "dissolved_census = spark.sql(f\"\"\"\n",
    "    SELECT NCA, ST_Union_Aggr(geometry) AS geometry \n",
    "    FROM census\n",
    "    GROUP BY NCA\n",
    "\"\"\")\n",
    "dissolved_census.show()"
   ]
  },
  {
   "cell_type": "markdown",
   "id": "657a5a9a",
   "metadata": {},
   "source": [
    "# Load"
   ]
  },
  {
   "cell_type": "code",
   "execution_count": null,
   "id": "bc85b43e-7218-4f8b-bcd0-ed19699af29c",
   "metadata": {
    "tags": []
   },
   "outputs": [],
   "source": [
    "dissolved_census.write.format(\n",
    "            'geoparquet',  # File format\n",
    "        ).mode(\"overwrite\").save(output_path)\n"
   ]
  },
  {
   "cell_type": "markdown",
   "metadata": {},
   "source": [
    "# Check"
   ]
  },
  {
   "cell_type": "code",
   "execution_count": null,
   "id": "e0ad370a",
   "metadata": {},
   "outputs": [],
   "source": [
    "df = spark.read.format('geoparquet').load(output_path)\n",
    "df.show()"
   ]
  },
  {
   "cell_type": "code",
   "execution_count": null,
   "metadata": {},
   "outputs": [],
   "source": [
    "view_geodf(df)"
   ]
  }
 ],
 "metadata": {
  "kernelspec": {
   "display_name": "Python 3 (ipykernel)",
   "language": "python",
   "name": "python3"
  },
  "language_info": {
   "codemirror_mode": {
    "name": "ipython",
    "version": 3
   },
   "file_extension": ".py",
   "mimetype": "text/x-python",
   "name": "python",
   "nbconvert_exporter": "python",
   "pygments_lexer": "ipython3",
   "version": "3.11.6"
  }
 },
 "nbformat": 4,
 "nbformat_minor": 5
}
